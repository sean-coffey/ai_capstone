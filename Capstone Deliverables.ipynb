{
 "cells": [
  {
   "cell_type": "markdown",
   "metadata": {
    "collapsed": true,
    "pycharm": {
     "name": "#%% md\n"
    }
   },
   "source": [
    "# Capstone Deliverables"
   ]
  },
  {
   "cell_type": "code",
   "execution_count": 1,
   "outputs": [],
   "source": [
    "import os\n",
    "import numpy as np\n",
    "import pandas as pd\n",
    "import seaborn as sns\n",
    "from IPython.display import Image\n",
    "import matplotlib.pyplot as plt\n",
    "import matplotlib.image as mpimg\n",
    "%matplotlib inline"
   ],
   "metadata": {
    "collapsed": false,
    "pycharm": {
     "name": "#%%\n"
    }
   }
  },
  {
   "cell_type": "markdown",
   "source": [
    "## Testing\n",
    "\n",
    "Are there unit tests for the API?\n",
    "\n",
    "    Yes - unittests/ApiTests.py\n",
    "\n",
    "Are there unit tests for the model?\n",
    "\n",
    "    Yes - unittests/ModelTests.py\n",
    "\n",
    "Are there unit tests for the logging?\n",
    "\n",
    "    Yes - unittests/LoggerTests.py\n",
    "\n",
    "Can all of the unit tests be run with a single script and do all of the unit tests pass?\n",
    "\n",
    "    Yes - run-tests.py"
   ],
   "metadata": {
    "collapsed": false,
    "pycharm": {
     "name": "#%% md\n"
    }
   }
  },
  {
   "cell_type": "code",
   "execution_count": 2,
   "outputs": [
    {
     "name": "stdout",
     "output_type": "stream",
     "text": [
      "test_01_train (ApiTests.ApiTest)\r\n",
      "test the train functionality ... ok\r\n",
      "test_02_predict_empty (ApiTests.ApiTest)\r\n",
      "ensure appropriate failure types ... ok\r\n",
      "test_03_predict (ApiTests.ApiTest)\r\n",
      "test the predict functionality ... Result from test_03_predict: {\"country\":\"all\",\"target_date\":\"2018-01-05\",\"y_known\":[183479.624],\"y_pred\":[180107.04546666666],\"y_proba\":null}\r\n",
      "\r\n",
      "ok\r\n",
      "test_04_logs (ApiTests.ApiTest)\r\n",
      "test the log functionality ... ok\r\n",
      "test_01_train (LoggerTests.LoggerTest)\r\n",
      "ensure log file is created ... ok\r\n",
      "test_02_train (LoggerTests.LoggerTest)\r\n",
      "ensure that content can be retrieved from log file ... ok\r\n",
      "test_03_predict (LoggerTests.LoggerTest)\r\n",
      "ensure log file is created ... ok\r\n",
      "test_04_predict (LoggerTests.LoggerTest)\r\n",
      "ensure that content can be retrieved from log file ... ok\r\n",
      "test_01_train (ModelTests.ModelTest)\r\n",
      "test the train functionality ... ... test flag on\r\n",
      "...... sub-setting data\r\n",
      "...... sub-setting countries\r\n",
      "... loading ts data from files\r\n",
      "... saving test version of model: models/test-united_kingdom-0_1.joblib\r\n",
      "... saving test version of model: models/test-all-0_1.joblib\r\n",
      "ok\r\n",
      "test_02_load (ModelTests.ModelTest)\r\n",
      "test the load functionality ... ... loading ts data from files\r\n",
      "ok\r\n",
      "test_03_predict (ModelTests.ModelTest)\r\n",
      "test the predict function input ... ... loading ts data from files\r\n",
      "ok\r\n",
      "\r\n",
      "----------------------------------------------------------------------\r\n",
      "Ran 11 tests in 105.836s\r\n",
      "\r\n",
      "OK\r\n"
     ]
    }
   ],
   "source": [
    "!python run-tests.py -v\n"
   ],
   "metadata": {
    "collapsed": false,
    "pycharm": {
     "name": "#%%\n"
    }
   }
  },
  {
   "cell_type": "markdown",
   "source": [
    "Is there a mechanism to monitor performance?\n",
    "\n",
    "    WIP - ran out of time\n",
    "\n",
    "Was there an attempt to isolate the read/write unit tests from production models and logs?\n",
    "\n",
    "    Yes\n",
    "    (1) by creating \"test versions of models\" distinguished by the prefix to model job name \"test-\"\n",
    "    (2) by creating test logs for training and prediction\n",
    "\n",
    "## API, ingestion and model\n",
    "\n",
    "Does the API work as expected? For example, can you get predictions for a specific country as well as for all countries combined?\n",
    "\n",
    "    Yes"
   ],
   "metadata": {
    "collapsed": false,
    "pycharm": {
     "name": "#%% md\n"
    }
   }
  },
  {
   "cell_type": "code",
   "execution_count": 4,
   "outputs": [
    {
     "name": "stdout",
     "output_type": "stream",
     "text": [
      " * Serving Flask app \"app\" (lazy loading)\r\n",
      " * Environment: production\r\n",
      "   WARNING: This is a development server. Do not use it in a production deployment.\r\n",
      "   Use a production WSGI server instead.\r\n",
      " * Debug mode: off\r\n",
      " * Running on http://0.0.0.0:8080/ (Press CTRL+C to quit)\r\n",
      "^C\r\n"
     ]
    }
   ],
   "source": [
    "!docker run -p 4000:8080 capstone"
   ],
   "metadata": {
    "collapsed": false,
    "pycharm": {
     "name": "#%%\n"
    }
   }
  },
  {
   "cell_type": "code",
   "execution_count": 5,
   "outputs": [],
   "source": [
    "!python query-api.py"
   ],
   "metadata": {
    "collapsed": false,
    "pycharm": {
     "name": "#%%\n"
    }
   }
  },
  {
   "cell_type": "markdown",
   "source": [
    "    Results:\n",
    "               country target_date  y_known     y_pred       y_proba\n",
    "    0             all  2017-11-30  170445.260  170418.35720    None\n",
    "    0             all  2017-12-31  173092.473  170589.10270    None\n",
    "    0             all  2018-01-31  129925.585  133476.87405    None\n",
    "    0             all  2018-02-28  263632.401  269517.11650    None\n",
    "    0             all  2018-03-31  116642.342  117181.30100    None\n",
    "    0             all  2018-04-30  144481.060  145168.12250    None\n",
    "    0             all  2018-05-31  236716.830  235655.49755    None\n",
    "    0             all  2018-06-30   93654.340   96385.45850    None\n",
    "    0             all  2018-07-31  152791.380  148481.70770    None\n",
    "    0             all  2018-08-31  219264.551  229374.80445    None\n",
    "    0             all  2018-09-30  270842.590  244044.53360    None\n",
    "    0             all  2018-10-31  320371.492  318685.87700    None\n",
    "    0             all  2018-11-30  387279.740  385130.53500    None\n",
    "    0             all  2018-12-31  178314.260  175340.66410    None\n",
    "    0             all  2019-01-31  135549.990  130746.47355    None\n",
    "    0             all  2019-02-28  165443.920  164121.92850    None\n",
    "    0             all  2019-03-31  125779.021  134689.01955    None\n",
    "    0             all  2019-04-30  195218.250  188127.34520    None\n",
    "    0             all  2019-05-31  191391.680  194427.89650    None\n",
    "    0             all  2019-06-30    1793.980  138915.06960    None\n",
    "    0  united_kingdom  2017-11-30  160736.980  159026.26332    None\n",
    "    0  united_kingdom  2017-12-31  148110.823  148124.26808    None\n",
    "    0  united_kingdom  2018-01-31  116077.065  117399.65768    None\n",
    "    0  united_kingdom  2018-02-28  217019.201  214622.90820    None\n",
    "    0  united_kingdom  2018-03-31  103206.131  107707.73292    None\n",
    "    0  united_kingdom  2018-04-30  125986.030  126940.41360    None\n",
    "    0  united_kingdom  2018-05-31  224732.640  221815.13448    None\n",
    "    0  united_kingdom  2018-06-30   77115.230   84733.77644    None\n",
    "    0  united_kingdom  2018-07-31  135398.810  129720.75160    None\n",
    "    0  united_kingdom  2018-08-31  201918.791  205726.52100    None\n",
    "    0  united_kingdom  2018-09-30  235499.470  235164.62640    None\n",
    "    0  united_kingdom  2018-10-31  299139.572  295841.59880    None\n",
    "    0  united_kingdom  2018-11-30  375412.060  364785.72128    None\n",
    "    0  united_kingdom  2018-12-31  163467.850  166148.73200    None\n",
    "    0  united_kingdom  2019-01-31  122629.750  120224.73296    None\n",
    "    0  united_kingdom  2019-02-28  142085.490  141947.36444    None\n",
    "    0  united_kingdom  2019-03-31  104058.691  109359.64300    None\n",
    "    0  united_kingdom  2019-04-30  174900.620  184747.48936    None\n",
    "    0  united_kingdom  2019-05-31  170593.560  166606.77960    None\n",
    "    0  united_kingdom  2019-06-30    1793.980  121572.19012    None"
   ],
   "metadata": {
    "collapsed": false
   }
  },
  {
   "cell_type": "markdown",
   "source": [
    "\n",
    "Does the data ingestion exists as a function or script to facilitate automation?\n",
    "\n",
    "    Yes - see ingestion.py\n",
    "\n",
    "Were multiple models compared?\n",
    "\n",
    "    Multiple hyper-parameters were tried using GridSearchCV using RandomForestRegressor.\n",
    "\n",
    "Did the EDA investigation use visualizations?"
   ],
   "metadata": {
    "collapsed": false
   }
  },
  {
   "cell_type": "markdown",
   "source": [
    "    Link to [Other notebook](./EDA.ipynb)\n",
    "\n",
    "Is everything containerized within a working Docker image?\n",
    "\n",
    "    Yes - the included Dockerfile creates an image that runs using:\n",
    "\n",
    "    docker build -t capstone .\n",
    "\n",
    "    See above for code demonstrating API running in a container and successful query against that API.\n",
    "\n"
   ],
   "metadata": {
    "collapsed": false,
    "pycharm": {
     "name": "#%% md\n"
    }
   }
  },
  {
   "cell_type": "markdown",
   "source": [
    "Did they use a visualization to compare their model to the baseline model?\n",
    "\n",
    "    WIP - ran out of time"
   ],
   "metadata": {
    "collapsed": false,
    "pycharm": {
     "name": "#%% md\n"
    }
   }
  }
 ],
 "metadata": {
  "kernelspec": {
   "display_name": "Python 3",
   "language": "python",
   "name": "python3"
  },
  "language_info": {
   "codemirror_mode": {
    "name": "ipython",
    "version": 2
   },
   "file_extension": ".py",
   "mimetype": "text/x-python",
   "name": "python",
   "nbconvert_exporter": "python",
   "pygments_lexer": "ipython2",
   "version": "2.7.6"
  }
 },
 "nbformat": 4,
 "nbformat_minor": 0
}